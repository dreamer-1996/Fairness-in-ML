{
 "cells": [
  {
   "cell_type": "markdown",
   "metadata": {
    "id": "BWWEv6b7uqYg"
   },
   "source": [
    "# **IN SEARCH FOR FAIRNESS IN MACHINE LEARNING MODEL : COMPAS DATASET**"
   ]
  },
  {
   "cell_type": "markdown",
   "metadata": {
    "id": "iN8iDsOuU0MP"
   },
   "source": [
    "Authors\n",
    "\n",
    "\n",
    "*   Manuel **SULMONT**\n",
    "*   Nairit **BANDYOPADHYAY**\n",
    "*   Archit **YADAV**\n"
   ]
  },
  {
   "cell_type": "markdown",
   "metadata": {
    "id": "aJ6BgkeWvc-V"
   },
   "source": [
    "In this project, we aim to work on given dataset of COMPAS dataset, published by ProPublica. This dataset contains information on criminal defendants with their COMPAS score and if they did actually recidivate two years after. We aim to do the following:\n",
    "\n",
    "\n",
    "1.   To clean the dataset and perform some basic data exploration.\n",
    "2.   To use some general classifier on the dataset.\n",
    "3.   To create a fair classifier (which is supposed to classify more fairly  compared to the general classifiers).\n",
    "\n"
   ]
  },
  {
   "cell_type": "markdown",
   "metadata": {
    "id": "OB6nYcB8xMOe"
   },
   "source": [
    "### STEP 1 : DOWNLOADING THE DATA"
   ]
  },
  {
   "cell_type": "code",
   "execution_count": 1,
   "metadata": {
    "colab": {
     "base_uri": "https://localhost:8080/"
    },
    "id": "73MpSNQdxa_7",
    "outputId": "4bdacf05-f2d6-4a12-8e7c-26f734feaa92"
   },
   "outputs": [
    {
     "name": "stdout",
     "output_type": "stream",
     "text": [
      "Looking for file compas-scores-two-years.csv in the current directory...\n",
      "File found in current directory..\n"
     ]
    }
   ],
   "source": [
    "import urllib\n",
    "import urllib.request\n",
    "import os,sys\n",
    "import numpy as np\n",
    "import pandas as pd\n",
    "\n",
    "from sklearn import feature_extraction\n",
    "from sklearn import preprocessing\n",
    "from random import seed, shuffle\n",
    "from __future__ import division\n",
    "from collections import defaultdict\n",
    "from sklearn import metrics\n",
    "import matplotlib.pyplot as plt\n",
    "#import utils as ut\n",
    "\n",
    "SEED = 1234\n",
    "seed(SEED)\n",
    "np.random.seed(SEED)\n",
    "\n",
    "def check_data_file(fname):\n",
    "    files = os.listdir(\".\") # get the current directory listing\n",
    "    print(\"Looking for file {} in the current directory...\".format(fname))\n",
    "\n",
    "    if fname not in files:\n",
    "        print(\"{} not found! Downloading from GitHub...\".format(fname))\n",
    "        addr = \"https://raw.githubusercontent.com/propublica/compas-analysis/master/compas-scores-two-years.csv\"\n",
    "        response = urllib.request.urlopen(addr)\n",
    "        data = response.read()\n",
    "        fileOut = open(fname, \"wb\")\n",
    "        fileOut.write(data)\n",
    "        fileOut.close()\n",
    "        print(\"{} download and saved locally..\".format(fname))\n",
    "    else:\n",
    "        print(\"File found in current directory..\")\n",
    "    \n",
    "COMPAS_INPUT_FILE = \"compas-scores-two-years.csv\"\n",
    "check_data_file(COMPAS_INPUT_FILE)  "
   ]
  },
  {
   "cell_type": "markdown",
   "metadata": {
    "id": "XMIUqS6A_cOi"
   },
   "source": [
    "### STEP 3: CLEAN THE DATA SET"
   ]
  },
  {
   "cell_type": "markdown",
   "metadata": {
    "id": "eWE7iDZQWSi7"
   },
   "source": [
    "The ProPublica article : https://www.propublica.org/article/how-we-analyzed-the-compas-recidivism-algorithm does not clearly define any methodology on how to clean the data.However their analysis notebook (https://github.com/propublica/compas-analysis/blob/master/Compas%20Analysis.ipynb) provided some guidelines on how to clean the data:\n",
    "\n",
    "1. If the charge date of a defendants Compas scored crime was not within 30 days from when the person was arrested, we assume that because of data quality reasons, that we do not have the right offense.\n",
    "2. We coded the recidivist flag -- is_recid -- to be -1 if we could not find a compas case at all.\n",
    "3. In a similar vein, ordinary traffic offenses -- those with a c_charge_degree of 'O' -- will not result in Jail time are removed (only two of them).\n",
    "4. We filtered the underlying data from Broward county to include only those rows representing people who had either recidivated in two years, or had at least two years outside of a correctional facility."
   ]
  },
  {
   "cell_type": "code",
   "execution_count": 2,
   "metadata": {
    "colab": {
     "base_uri": "https://localhost:8080/"
    },
    "id": "wwQ3KLEE_pwd",
    "outputId": "c33dd034-eec0-45ce-ccd8-949590130718"
   },
   "outputs": [
    {
     "name": "stdout",
     "output_type": "stream",
     "text": [
      "Original Entries in dataset\n",
      "(7214, 53)\n",
      "-------------------------------------------------\n",
      "(6907, 53)\n",
      "On further processing of the data........\n",
      "Valid Entries in dataset\n",
      "(6172, 53)\n",
      "-------------------------------------------------\n",
      "Do we still have some empty rows for some features? Let's see\n",
      "id                            0\n",
      "name                          0\n",
      "first                         0\n",
      "last                          0\n",
      "compas_screening_date         0\n",
      "sex                           0\n",
      "dob                           0\n",
      "age                           0\n",
      "age_cat                       0\n",
      "race                          0\n",
      "juv_fel_count                 0\n",
      "decile_score                  0\n",
      "juv_misd_count                0\n",
      "juv_other_count               0\n",
      "priors_count                  0\n",
      "days_b_screening_arrest       0\n",
      "c_jail_in                     0\n",
      "c_jail_out                    0\n",
      "c_case_number                 0\n",
      "c_offense_date              784\n",
      "c_arrest_date              5388\n",
      "c_days_from_compas            0\n",
      "c_charge_degree               0\n",
      "c_charge_desc                 5\n",
      "is_recid                      0\n",
      "r_case_number              3182\n",
      "r_charge_degree            3182\n",
      "r_days_from_arrest         4175\n",
      "r_offense_date             3182\n",
      "r_charge_desc              3228\n",
      "r_jail_in                  4175\n",
      "r_jail_out                 4175\n",
      "violent_recid              6172\n",
      "is_violent_recid              0\n",
      "vr_case_number             5480\n",
      "vr_charge_degree           5480\n",
      "vr_offense_date            5480\n",
      "vr_charge_desc             5480\n",
      "type_of_assessment            0\n",
      "decile_score.1                0\n",
      "score_text                    0\n",
      "screening_date                0\n",
      "v_type_of_assessment          0\n",
      "v_decile_score                0\n",
      "v_score_text                  0\n",
      "v_screening_date              0\n",
      "in_custody                    0\n",
      "out_custody                   0\n",
      "priors_count.1                0\n",
      "start                         0\n",
      "end                           0\n",
      "event                         0\n",
      "two_year_recid                0\n",
      "dtype: int64\n",
      "-------------------------------------------------\n"
     ]
    }
   ],
   "source": [
    "#read file using panda and drop out the missing val\n",
    "\n",
    "df = pd.read_csv(COMPAS_INPUT_FILE)\n",
    "print(\"Original Entries in dataset\")\n",
    "print(df.shape)\n",
    "print(\"-------------------------------------------------\")\n",
    "\n",
    "\n",
    "df = df.dropna(subset=[\"days_b_screening_arrest\"]) # dropping missing vals\n",
    "print(df.shape)\n",
    "#print(\"-------------------------------------------------\")\n",
    "\n",
    "\n",
    "print(\"On further processing of the data........\")\n",
    "df = df[(df.days_b_screening_arrest <= 30) & (df.days_b_screening_arrest >= -30) & (df.is_recid != -1) & (df.c_charge_degree != 'O') & (df.score_text != 'N/A') ]\n",
    "df.reset_index(inplace=True, drop=True) \n",
    "\n",
    "print(\"Valid Entries in dataset\")\n",
    "print(df.shape)\n",
    "print(\"-------------------------------------------------\")\n",
    "\n",
    "\n",
    "print(\"Do we still have some empty rows for some features? Let's see\")\n",
    "print(df.isnull().sum())\n",
    "print(\"-------------------------------------------------\")"
   ]
  },
  {
   "cell_type": "markdown",
   "metadata": {
    "id": "ElEzEC3GJZuT"
   },
   "source": [
    "### STEP 4 : BASIC EXPLORATION OF DATA"
   ]
  },
  {
   "cell_type": "code",
   "execution_count": 3,
   "metadata": {
    "id": "H2Afe4uHwlhD"
   },
   "outputs": [],
   "source": [
    "def printing_groupby_aggregator(datafram,list_of_group_by_attributes,measured_attribute,aggregate_function,title):\n",
    "  print(title)\n",
    "  frame = datafram.groupby(list_of_group_by_attributes)[measured_attribute].agg(aggregate_function)\n",
    "  print(frame,'\\n')\n",
    "  print(\"-------------------------------------------------\\n\")\n",
    "  return "
   ]
  },
  {
   "cell_type": "markdown",
   "metadata": {
    "id": "9h3M3EBBZtsL"
   },
   "source": [
    "Here we will see the features of the dataset and will try to see the unique races,charge degree,Gender and ages present in the dataset"
   ]
  },
  {
   "cell_type": "code",
   "execution_count": 4,
   "metadata": {
    "colab": {
     "base_uri": "https://localhost:8080/"
    },
    "id": "HfzouT6nMXoM",
    "outputId": "18004962-d0ab-4195-c64f-75f596c90aaa"
   },
   "outputs": [
    {
     "name": "stdout",
     "output_type": "stream",
     "text": [
      "Features in the dataset\n",
      "Index(['id', 'name', 'first', 'last', 'compas_screening_date', 'sex', 'dob',\n",
      "       'age', 'age_cat', 'race', 'juv_fel_count', 'decile_score',\n",
      "       'juv_misd_count', 'juv_other_count', 'priors_count',\n",
      "       'days_b_screening_arrest', 'c_jail_in', 'c_jail_out', 'c_case_number',\n",
      "       'c_offense_date', 'c_arrest_date', 'c_days_from_compas',\n",
      "       'c_charge_degree', 'c_charge_desc', 'is_recid', 'r_case_number',\n",
      "       'r_charge_degree', 'r_days_from_arrest', 'r_offense_date',\n",
      "       'r_charge_desc', 'r_jail_in', 'r_jail_out', 'violent_recid',\n",
      "       'is_violent_recid', 'vr_case_number', 'vr_charge_degree',\n",
      "       'vr_offense_date', 'vr_charge_desc', 'type_of_assessment',\n",
      "       'decile_score.1', 'score_text', 'screening_date',\n",
      "       'v_type_of_assessment', 'v_decile_score', 'v_score_text',\n",
      "       'v_screening_date', 'in_custody', 'out_custody', 'priors_count.1',\n",
      "       'start', 'end', 'event', 'two_year_recid'],\n",
      "      dtype='object')\n",
      "-------------------------------------------------\n",
      "\n",
      "First 20 rows in dataset\n",
      "    id                 name       first       last compas_screening_date  \\\n",
      "0    1     miguel hernandez      miguel  hernandez            2013-08-14   \n",
      "1    3          kevon dixon       kevon      dixon            2013-01-27   \n",
      "2    4             ed philo          ed      philo            2013-04-14   \n",
      "3    7         marsha miles      marsha      miles            2013-11-30   \n",
      "4    8        edward riddle      edward     riddle            2014-02-19   \n",
      "5    9       steven stewart      steven    stewart            2013-08-30   \n",
      "6   10     elizabeth thieme   elizabeth     thieme            2014-03-16   \n",
      "7   14       benjamin franc    benjamin      franc            2013-11-26   \n",
      "8   15       ellyaher lanza    ellyaher      lanza            2013-10-03   \n",
      "9   16      kortney coleman     kortney    coleman            2013-01-01   \n",
      "10  18         jarrod turbe      jarrod      turbe            2013-10-09   \n",
      "11  19        craig gilbert       craig    gilbert            2013-10-30   \n",
      "12  20      samuel seraphin      samuel   seraphin            2014-06-03   \n",
      "13  21      mario hernandez       mario  hernandez            2014-03-24   \n",
      "14  22       darrious davis    darrious      davis            2013-12-22   \n",
      "15  23         neil heckart        neil    heckart            2013-11-17   \n",
      "16  24          michael lux     michael        lux            2014-11-15   \n",
      "17  25      columbus wilson    columbus     wilson            2014-05-02   \n",
      "18  26  vandivuiet williams  vandivuiet   williams            2013-04-18   \n",
      "19  27         nelson avalo      nelson      avalo            2014-10-16   \n",
      "\n",
      "       sex         dob  age          age_cat              race  ...  \\\n",
      "0     Male  1947-04-18   69  Greater than 45             Other  ...   \n",
      "1     Male  1982-01-22   34          25 - 45  African-American  ...   \n",
      "2     Male  1991-05-14   24     Less than 25  African-American  ...   \n",
      "3     Male  1971-08-22   44          25 - 45             Other  ...   \n",
      "4     Male  1974-07-23   41          25 - 45         Caucasian  ...   \n",
      "5     Male  1973-02-25   43          25 - 45             Other  ...   \n",
      "6   Female  1976-06-03   39          25 - 45         Caucasian  ...   \n",
      "7     Male  1988-06-01   27          25 - 45         Caucasian  ...   \n",
      "8     Male  1992-08-18   23     Less than 25  African-American  ...   \n",
      "9   Female  1978-08-22   37          25 - 45         Caucasian  ...   \n",
      "10    Male  1974-12-02   41          25 - 45  African-American  ...   \n",
      "11  Female  1968-06-14   47  Greater than 45         Caucasian  ...   \n",
      "12    Male  1985-03-25   31          25 - 45  African-American  ...   \n",
      "13    Male  1979-01-25   37          25 - 45          Hispanic  ...   \n",
      "14    Male  1990-06-22   25          25 - 45  African-American  ...   \n",
      "15    Male  1984-12-24   31          25 - 45         Caucasian  ...   \n",
      "16    Male  1985-01-08   31          25 - 45         Caucasian  ...   \n",
      "17    Male  1951-06-28   64  Greater than 45  African-American  ...   \n",
      "18    Male  1994-11-29   21     Less than 25  African-American  ...   \n",
      "19    Male  1988-08-06   27          25 - 45         Caucasian  ...   \n",
      "\n",
      "    v_decile_score  v_score_text  v_screening_date  in_custody  out_custody  \\\n",
      "0                1           Low        2013-08-14  2014-07-07   2014-07-14   \n",
      "1                1           Low        2013-01-27  2013-01-26   2013-02-05   \n",
      "2                3           Low        2013-04-14  2013-06-16   2013-06-16   \n",
      "3                1           Low        2013-11-30  2013-11-30   2013-12-01   \n",
      "4                2           Low        2014-02-19  2014-03-31   2014-04-18   \n",
      "5                3           Low        2013-08-30  2014-05-22   2014-06-03   \n",
      "6                1           Low        2014-03-16  2014-03-15   2014-03-18   \n",
      "7                4           Low        2013-11-26  2013-11-25   2013-11-26   \n",
      "8                4           Low        2013-10-03  2013-10-03   2013-10-07   \n",
      "9                1           Low        2013-01-01  2013-01-01   2013-01-02   \n",
      "10               2           Low        2013-10-09  2013-10-08   2013-10-09   \n",
      "11               1           Low        2013-10-30  2014-06-03   2014-11-19   \n",
      "12               2           Low        2014-06-03  2014-06-25   2014-06-28   \n",
      "13               1           Low        2014-03-24  2014-03-24   2014-03-24   \n",
      "14               9          High        2013-12-22  2015-03-30   2015-05-31   \n",
      "15               4           Low        2013-11-17  2013-11-16   2013-11-17   \n",
      "16               2           Low        2014-11-15  2016-02-16   2016-03-18   \n",
      "17               3           Low        2014-05-02  2014-05-03   2014-05-04   \n",
      "18               9          High        2013-04-18  2013-05-18   2013-05-19   \n",
      "19               3           Low        2014-10-16  2014-10-16   2014-10-16   \n",
      "\n",
      "    priors_count.1 start   end event two_year_recid  \n",
      "0                0     0   327     0              0  \n",
      "1                0     9   159     1              1  \n",
      "2                4     0    63     0              1  \n",
      "3                0     1   853     0              0  \n",
      "4               14     5    40     1              1  \n",
      "5                3     0   265     0              0  \n",
      "6                0     2   747     0              0  \n",
      "7                0     0   857     0              0  \n",
      "8                3     4   128     1              1  \n",
      "9                0     1  1186     0              0  \n",
      "10               0     0   905     0              0  \n",
      "11               1     0   216     1              1  \n",
      "12               7     0    22     1              1  \n",
      "13               0     0   739     0              0  \n",
      "14               3     0   463     0              0  \n",
      "15               6     0   241     1              1  \n",
      "16               5     0   163     1              1  \n",
      "17              13     0     1     1              1  \n",
      "18               1     2    30     1              1  \n",
      "19               0     0    81     1              1  \n",
      "\n",
      "[20 rows x 53 columns]\n",
      "-------------------------------------------------\n",
      "Different races in dataset\n",
      "['Other' 'African-American' 'Caucasian' 'Hispanic' 'Asian'\n",
      " 'Native American'] \n",
      "\n",
      "-------------------------------------------------\n",
      "Different charge degrees\n",
      "['F' 'M'] \n",
      "\n",
      "-------------------------------------------------\n",
      "Different gender in dataset\n",
      "['Male' 'Female'] \n",
      "\n",
      "-------------------------------------------------\n",
      "Different ages in dataset\n",
      "[18 19 20 21 22 23 24 25 26 27 28 29 30 31 32 33 34 35 36 37 38 39 40 41\n",
      " 42 43 44 45 46 47 48 49 50 51 52 53 54 55 56 57 58 59 60 61 62 63 64 65\n",
      " 66 67 68 69 70 71 72 73 74 75 76 77 78 79 80 83 96]\n",
      "-------------------------------------------------\n"
     ]
    }
   ],
   "source": [
    "print(\"Features in the dataset\")\n",
    "print(df.columns)\n",
    "print(\"-------------------------------------------------\\n\")\n",
    "print(\"First 20 rows in dataset\")\n",
    "print(df.head(20))\n",
    "print(\"-------------------------------------------------\")\n",
    "print(\"Different races in dataset\")\n",
    "print(df.race.unique(),\"\\n\") \n",
    "print(\"-------------------------------------------------\")\n",
    "print(\"Different charge degrees\")\n",
    "print(df.c_charge_degree.unique(),\"\\n\") \n",
    "print(\"-------------------------------------------------\")\n",
    "print(\"Different gender in dataset\")\n",
    "print(df.sex.unique(),\"\\n\")\n",
    "print(\"-------------------------------------------------\")\n",
    "print(\"Different ages in dataset\")\n",
    "print(np.sort(df.age.unique()))\n",
    "print(\"-------------------------------------------------\")\n",
    "\n",
    "\n",
    "\n"
   ]
  },
  {
   "cell_type": "markdown",
   "metadata": {
    "id": "-D6v9DzlZ_yj"
   },
   "source": [
    "We will count the number of people for some of the features"
   ]
  },
  {
   "cell_type": "code",
   "execution_count": 5,
   "metadata": {
    "colab": {
     "base_uri": "https://localhost:8080/"
    },
    "id": "M9XGBpZCZlzs",
    "outputId": "2dff4463-a884-493a-f937-2e1aaf96f692"
   },
   "outputs": [
    {
     "name": "stdout",
     "output_type": "stream",
     "text": [
      "Number of People by Age\n",
      "age_cat\n",
      "25 - 45            3532\n",
      "Greater than 45    1293\n",
      "Less than 25       1347\n",
      "Name: age, dtype: int64 \n",
      "\n",
      "-------------------------------------------------\n",
      "\n",
      "Number of People by Race\n",
      "race\n",
      "African-American    3175\n",
      "Asian                 31\n",
      "Caucasian           2103\n",
      "Hispanic             509\n",
      "Native American       11\n",
      "Other                343\n",
      "Name: race, dtype: int64 \n",
      "\n",
      "-------------------------------------------------\n",
      "\n",
      "Number of People by Compas Score\n",
      "decile_score\n",
      "1     1286\n",
      "2      822\n",
      "3      647\n",
      "4      666\n",
      "5      582\n",
      "6      529\n",
      "7      496\n",
      "8      420\n",
      "9      420\n",
      "10     304\n",
      "Name: decile_score, dtype: int64 \n",
      "\n",
      "-------------------------------------------------\n",
      "\n",
      "Number of People by Risk\n",
      "score_text\n",
      "High      1144\n",
      "Low       3421\n",
      "Medium    1607\n",
      "Name: score_text, dtype: int64 \n",
      "\n",
      "-------------------------------------------------\n",
      "\n"
     ]
    }
   ],
   "source": [
    "\n",
    "printing_groupby_aggregator(df,['age_cat'],'age','count',\"Number of People by Age\")\n",
    "printing_groupby_aggregator(df,['race'],'race','count',\"Number of People by Race\")\n",
    "printing_groupby_aggregator(df,['decile_score'],'decile_score','count',\"Number of People by Compas Score\")\n",
    "printing_groupby_aggregator(df,['score_text'],'score_text','count',\"Number of People by Risk\")\n",
    "\n"
   ]
  },
  {
   "cell_type": "code",
   "execution_count": 6,
   "metadata": {
    "colab": {
     "base_uri": "https://localhost:8080/",
     "height": 1000
    },
    "id": "nssUfBgCZpKy",
    "outputId": "139eb727-fbf8-4aa8-f2f5-ef78025480bb"
   },
   "outputs": [
    {
     "name": "stdout",
     "output_type": "stream",
     "text": [
      "Sex and Race\n",
      "\n",
      "sex               Female  Male\n",
      "race                          \n",
      "African-American     549  2626\n",
      "Asian                  2    29\n",
      "Caucasian            482  1621\n",
      "Hispanic              82   427\n",
      "Native American        2     9\n",
      "Other                 58   285 \n",
      "\n",
      "-------------------------------------------------\n",
      "Decile score and Race\n",
      "decile_score       1    2    3    4    5    6    7    8    9    10\n",
      "race                                                              \n",
      "African-American  365  346  298  337  323  318  343  301  317  227\n",
      "Asian              15    4    5    0    1    2    1    2    0    1\n",
      "Caucasian         605  321  238  243  200  160  113   96   77   50\n",
      "Hispanic          159   89   73   47   39   27   28   14   17   16\n",
      "Native American     0    2    1    0    0    2    2    0    2    2\n",
      "Other             142   60   32   39   19   20    9    7    7    8 \n",
      "\n",
      "-------------------------------------------------\n",
      "Mean of Decile_score based on Race and Sex\n",
      "race              sex   \n",
      "African-American  Female    4.639344\n",
      "                  Male      5.410129\n",
      "Asian             Female    2.000000\n",
      "                  Male      2.896552\n",
      "Caucasian         Female    3.792531\n",
      "                  Male      3.588526\n",
      "Hispanic          Female    2.682927\n",
      "                  Male      3.517564\n",
      "Native American   Female    8.500000\n",
      "                  Male      6.000000\n",
      "Other             Female    2.741379\n",
      "                  Male      2.919298\n",
      "Name: decile_score, dtype: float64 \n",
      "\n",
      "-------------------------------------------------\n",
      "\n",
      "Hist of Decile_score based on Race and Sex\n",
      "race              sex   \n",
      "African-American  Female    AxesSubplot(0.125,0.125;0.775x0.755)\n",
      "                  Male      AxesSubplot(0.125,0.125;0.775x0.755)\n",
      "Asian             Female    AxesSubplot(0.125,0.125;0.775x0.755)\n",
      "                  Male      AxesSubplot(0.125,0.125;0.775x0.755)\n",
      "Caucasian         Female    AxesSubplot(0.125,0.125;0.775x0.755)\n",
      "                  Male      AxesSubplot(0.125,0.125;0.775x0.755)\n",
      "Hispanic          Female    AxesSubplot(0.125,0.125;0.775x0.755)\n",
      "                  Male      AxesSubplot(0.125,0.125;0.775x0.755)\n",
      "Native American   Female    AxesSubplot(0.125,0.125;0.775x0.755)\n",
      "                  Male      AxesSubplot(0.125,0.125;0.775x0.755)\n",
      "Other             Female    AxesSubplot(0.125,0.125;0.775x0.755)\n",
      "                  Male      AxesSubplot(0.125,0.125;0.775x0.755)\n",
      "Name: decile_score, dtype: object \n",
      "\n",
      "-------------------------------------------------\n",
      "\n"
     ]
    },
    {
     "data": {
      "image/png": "[encoded data removed]",
      "text/plain": [
       "<Figure size 432x288 with 1 Axes>"
      ]
     },
     "metadata": {
      "needs_background": "light"
     },
     "output_type": "display_data"
    }
   ],
   "source": [
    "#by sex and race\n",
    "print(\"Sex and Race\\n\")\n",
    "print(pd.crosstab(df['race'], df['sex']),'\\n')\n",
    "print(\"-------------------------------------------------\")\n",
    "#by score and race\n",
    "print(\"Decile score and Race\")\n",
    "print(pd.crosstab(df['race'], df['decile_score']),'\\n')\n",
    "print(\"-------------------------------------------------\")\n",
    "\n",
    "\n",
    "\n",
    "printing_groupby_aggregator(df,['race','sex'],'decile_score','mean',\"Mean of Decile_score based on Race and Sex\")\n",
    "printing_groupby_aggregator(df,['race','sex'],'decile_score','hist',\"Hist of Decile_score based on Race and Sex\")"
   ]
  },
  {
   "cell_type": "code",
   "execution_count": 7,
   "metadata": {
    "id": "QA6KLhO1nd1M"
   },
   "outputs": [],
   "source": [
    "df_caucasian = df[df.race == 'Caucasian']\n",
    "df_african = df[df.race == 'African-American']\n",
    "df_caucasian=df_caucasian.groupby(['decile_score'])['decile_score'].count()\n",
    "df_african=df_african.groupby(['decile_score'])['decile_score'].count()\n"
   ]
  },
  {
   "cell_type": "code",
   "execution_count": 8,
   "metadata": {
    "colab": {
     "base_uri": "https://localhost:8080/",
     "height": 316
    },
    "id": "DswnAy6ArE6u",
    "outputId": "8fc6ef92-00e0-4f8a-b725-70d431dd6842"
   },
   "outputs": [
    {
     "data": {
      "text/plain": [
       "<AxesSubplot:title={'center':\"Black defendant's Decile Scores\"}, xlabel='decile_score'>"
      ]
     },
     "execution_count": 8,
     "metadata": {},
     "output_type": "execute_result"
    },
    {
     "data": {
      "image/png": "[encoded data removed]",
      "text/plain": [
       "<Figure size 432x288 with 1 Axes>"
      ]
     },
     "metadata": {
      "needs_background": "light"
     },
     "output_type": "display_data"
    }
   ],
   "source": [
    "df_african.plot(x='decile_score',kind='bar',title='Black defendant\\'s Decile Scores')\n"
   ]
  },
  {
   "cell_type": "code",
   "execution_count": 9,
   "metadata": {
    "colab": {
     "base_uri": "https://localhost:8080/",
     "height": 316
    },
    "id": "fh78CydVrFa-",
    "outputId": "5dfe5871-697b-4bd3-a8da-15f8b16fdee0"
   },
   "outputs": [
    {
     "data": {
      "text/plain": [
       "<AxesSubplot:title={'center':\"White defendant's Decile Scores\"}, xlabel='decile_score'>"
      ]
     },
     "execution_count": 9,
     "metadata": {},
     "output_type": "execute_result"
    },
    {
     "data": {
      "image/png": "[encoded data removed]",
      "text/plain": [
       "<Figure size 432x288 with 1 Axes>"
      ]
     },
     "metadata": {
      "needs_background": "light"
     },
     "output_type": "display_data"
    }
   ],
   "source": [
    "df_caucasian.plot(x='decile_score',kind='bar',title='White defendant\\'s Decile Scores')"
   ]
  },
  {
   "cell_type": "code",
   "execution_count": 10,
   "metadata": {
    "colab": {
     "base_uri": "https://localhost:8080/"
    },
    "id": "CNj24I1Cup2p",
    "outputId": "ab7e7021-ce91-4727-8007-813ce6a09e9e"
   },
   "outputs": [
    {
     "name": "stdout",
     "output_type": "stream",
     "text": [
      "Total People in the dataset\n",
      "6172 \n",
      "\n",
      "People who were re-arrested\n",
      "2809 \n",
      "\n",
      "People got re-arrested by race\n",
      "race\n",
      "African-American    1661\n",
      "Asian                  8\n",
      "Caucasian            822\n",
      "Hispanic             189\n",
      "Native American        5\n",
      "Other                124\n",
      "Name: two_year_recid, dtype: int64 \n",
      "\n",
      "-------------------------------------------------\n",
      "\n",
      "People got different categories of compas scores based on race\n",
      "score_text  race            \n",
      "High        African-American     845\n",
      "            Asian                  3\n",
      "            Caucasian            223\n",
      "            Hispanic              47\n",
      "            Native American        4\n",
      "            Other                 22\n",
      "Low         African-American    1346\n",
      "            Asian                 24\n",
      "            Caucasian           1407\n",
      "            Hispanic             368\n",
      "            Native American        3\n",
      "            Other                273\n",
      "Medium      African-American     984\n",
      "            Asian                  4\n",
      "            Caucasian            473\n",
      "            Hispanic              94\n",
      "            Native American        4\n",
      "            Other                 48\n",
      "Name: race, dtype: int64 \n",
      "\n",
      "-------------------------------------------------\n",
      "\n"
     ]
    }
   ],
   "source": [
    "print(\"Total People in the dataset\")\n",
    "print(df.shape[0],'\\n')\n",
    "\n",
    "print(\"People who were re-arrested\")\n",
    "print(df['two_year_recid'].sum(),'\\n')\n",
    "\n",
    "\n",
    "printing_groupby_aggregator(df,['race'],'two_year_recid','sum',\"People got re-arrested by race\")\n",
    "printing_groupby_aggregator(df,['score_text','race'],'race','count',\"People got different categories of compas scores based on race\")"
   ]
  },
  {
   "cell_type": "markdown",
   "metadata": {
    "id": "xVnS78mjczVG"
   },
   "source": [
    "**OBSERVATIONS**\n",
    "1. The decile scores of white defendants are on the lower side,while that of black defendants are on the higher side.\n",
    "\n",
    "2. Another striking observation is COMPAS gave high and medium scores to 1829 black defendants but only 1661 were rearrested. Meanwhile 696 white defendants were given high and medium scores but 822 were arrested. It means COMPAS maybe falsely predicting black defendants as more-dangerous compared to white defendants"
   ]
  },
  {
   "cell_type": "markdown",
   "metadata": {
    "id": "cexgM2VR94pT"
   },
   "source": [
    "## FEATURE ENGINEERING"
   ]
  },
  {
   "cell_type": "markdown",
   "metadata": {
    "id": "r0m9jmdVrajn"
   },
   "source": [
    "We will be using pandas dummies for one-hot encoding. The idea is to distribute the categorical features into seperate columns. We don't need all the features of the dataset. We will be removing some and create new features from the categorical features also called flattening the dataset."
   ]
  },
  {
   "cell_type": "code",
   "execution_count": 11,
   "metadata": {
    "colab": {
     "base_uri": "https://localhost:8080/"
    },
    "id": "HGKAWct1JBjB",
    "outputId": "6dca0578-1b5d-4b61-a617-f9a3336bed7d"
   },
   "outputs": [
    {
     "name": "stdout",
     "output_type": "stream",
     "text": [
      "\n",
      "Number of people recidivating within two years is 2809\n",
      "    25 - 45  Greater than 45  African-American  Asian  Caucasian  Hispanic  \\\n",
      "0         0                1                 0      0          0         0   \n",
      "1         1                0                 1      0          0         0   \n",
      "2         0                0                 1      0          0         0   \n",
      "3         1                0                 0      0          0         0   \n",
      "4         1                0                 0      0          1         0   \n",
      "5         1                0                 0      0          0         0   \n",
      "6         1                0                 0      0          1         0   \n",
      "7         1                0                 0      0          1         0   \n",
      "8         0                0                 1      0          0         0   \n",
      "9         1                0                 0      0          1         0   \n",
      "10        1                0                 1      0          0         0   \n",
      "11        0                1                 0      0          1         0   \n",
      "12        1                0                 1      0          0         0   \n",
      "13        1                0                 0      0          0         1   \n",
      "14        1                0                 1      0          0         0   \n",
      "15        1                0                 0      0          1         0   \n",
      "16        1                0                 0      0          1         0   \n",
      "17        0                1                 1      0          0         0   \n",
      "18        0                0                 1      0          0         0   \n",
      "19        1                0                 0      0          1         0   \n",
      "\n",
      "    Native American  Male  M  priors_count  \n",
      "0                 0     1  0     -0.684413  \n",
      "1                 0     1  0     -0.684413  \n",
      "2                 0     1  0      0.158866  \n",
      "3                 0     1  1     -0.684413  \n",
      "4                 0     1  0      2.267065  \n",
      "5                 0     1  0     -0.051954  \n",
      "6                 0     0  1     -0.684413  \n",
      "7                 0     1  0     -0.684413  \n",
      "8                 0     1  1     -0.051954  \n",
      "9                 0     0  1     -0.684413  \n",
      "10                0     1  0     -0.684413  \n",
      "11                0     0  0     -0.473593  \n",
      "12                0     1  0      0.791326  \n",
      "13                0     1  1     -0.684413  \n",
      "14                0     1  0     -0.051954  \n",
      "15                0     1  0      0.580506  \n",
      "16                0     1  0      0.369686  \n",
      "17                0     1  0      2.056245  \n",
      "18                0     1  0     -0.473593  \n",
      "19                0     1  1     -0.684413  \n",
      "0     0\n",
      "1     1\n",
      "2     1\n",
      "3     0\n",
      "4     1\n",
      "5     0\n",
      "6     0\n",
      "7     0\n",
      "8     1\n",
      "9     0\n",
      "10    0\n",
      "11    1\n",
      "12    1\n",
      "13    0\n",
      "14    0\n",
      "15    1\n",
      "16    1\n",
      "17    1\n",
      "18    1\n",
      "19    1\n",
      "Name: two_year_recid, dtype: int64\n"
     ]
    }
   ],
   "source": [
    "dummies = pd.get_dummies(df.age_cat)\n",
    "merged = pd.concat([df,dummies],axis='columns')\n",
    "final1 = merged.drop(['age_cat','Less than 25'],axis = 'columns')\n",
    "\n",
    "dummies = pd.get_dummies(final1.race)\n",
    "merged = pd.concat([final1,dummies],axis='columns')\n",
    "final2 = merged.drop(['Other','race'],axis = 'columns')\n",
    "\n",
    "dummies = pd.get_dummies(final2.sex)\n",
    "merged = pd.concat([final2,dummies],axis='columns')\n",
    "final3 = merged.drop(['sex','Female'],axis = 'columns')\n",
    "\n",
    "dummies = pd.get_dummies(final3.c_charge_degree)\n",
    "merged = pd.concat([final3,dummies],axis='columns')\n",
    "final4 = merged.drop(['c_charge_degree','F'],axis = 'columns')\n",
    "\n",
    "final4[[\"priors_count\"]] = preprocessing.scale(df[[\"priors_count\"]])\n",
    "\n",
    "print (\"\\nNumber of people recidivating within two years is {}\".format(final4.two_year_recid.sum()))\n",
    "\n",
    "\n",
    "final4.columns\n",
    "Independent = final4[['25 - 45','Greater than 45','African-American', 'Asian', 'Caucasian', 'Hispanic', 'Native American',\n",
    "       'Male', 'M','priors_count']]\n",
    "\n",
    "Dependent = final4.two_year_recid\n",
    "\n",
    "print(Independent.head(20))\n",
    "print(Dependent.head(20))\n"
   ]
  },
  {
   "cell_type": "markdown",
   "metadata": {
    "id": "_Cy5Ya9HgrY2"
   },
   "source": [
    "The independent dataframe contains the independet features of the dataset and dependent dataframe contains the feature that has to be predicted by the training model."
   ]
  },
  {
   "cell_type": "markdown",
   "metadata": {
    "id": "pgAYdUDGeMM-"
   },
   "source": [
    "### TEST TRAIN SPLIT"
   ]
  },
  {
   "cell_type": "code",
   "execution_count": 12,
   "metadata": {
    "colab": {
     "base_uri": "https://localhost:8080/"
    },
    "id": "ZJlxK5_0eMuz",
    "outputId": "e5ba412d-ffc8-4575-c08e-9b89baa8878e"
   },
   "outputs": [
    {
     "name": "stdout",
     "output_type": "stream",
     "text": [
      "(4937, 10)\n",
      "(1235, 10)\n",
      "(4937,)\n",
      "(1235,)\n"
     ]
    }
   ],
   "source": [
    "from sklearn.model_selection import train_test_split\n",
    "X_train,X_test,y_train,y_test = train_test_split(Independent,Dependent,test_size=0.2,random_state=1)\n",
    "print(X_train.shape)\n",
    "print(X_test.shape)\n",
    "print(y_train.shape)\n",
    "print(y_test.shape)"
   ]
  },
  {
   "cell_type": "markdown",
   "metadata": {
    "id": "9DGSyUrXjLt-"
   },
   "source": [
    "### MULTILAYER PERCEPTRON"
   ]
  },
  {
   "cell_type": "code",
   "execution_count": 13,
   "metadata": {
    "id": "VqNlNr5Vl8p3"
   },
   "outputs": [],
   "source": [
    "from sklearn.metrics import plot_confusion_matrix"
   ]
  },
  {
   "cell_type": "code",
   "execution_count": 14,
   "metadata": {
    "colab": {
     "base_uri": "https://localhost:8080/"
    },
    "id": "vil2OoOtjFRi",
    "outputId": "320d9f2d-9752-4334-e056-798db6af40e4"
   },
   "outputs": [
    {
     "name": "stdout",
     "output_type": "stream",
     "text": [
      "Accuracy : 0.6890688259109312\n"
     ]
    }
   ],
   "source": [
    "from sklearn.neural_network import MLPClassifier\n",
    "from sklearn.metrics import accuracy_score\n",
    "\n",
    "mlp = MLPClassifier(solver='adam', alpha=1e-5,hidden_layer_sizes=(5, 4))\n",
    "mlp.fit(X_train,y_train)\n",
    "mlp_y=mlp.predict(X_test)\n",
    "print(\"Accuracy :\",accuracy_score(y_test, mlp_y))"
   ]
  },
  {
   "cell_type": "code",
   "execution_count": 15,
   "metadata": {
    "colab": {
     "base_uri": "https://localhost:8080/",
     "height": 0
    },
    "id": "S-5b0z2LmHzJ",
    "outputId": "a80c2e96-8277-4f13-952c-52714b9bdea9"
   },
   "outputs": [
    {
     "data": {
      "image/png": "[encoded data removed]",
      "text/plain": [
       "<Figure size 432x288 with 2 Axes>"
      ]
     },
     "metadata": {
      "needs_background": "light"
     },
     "output_type": "display_data"
    }
   ],
   "source": [
    "plot_confusion_matrix(mlp, Independent, Dependent)\n",
    "plt.show()"
   ]
  },
  {
   "cell_type": "markdown",
   "metadata": {
    "id": "oexI1A_ilei9"
   },
   "source": [
    "## Gaussian NB Classification"
   ]
  },
  {
   "cell_type": "code",
   "execution_count": 16,
   "metadata": {
    "colab": {
     "base_uri": "https://localhost:8080/"
    },
    "id": "0_lPLfLBloGb",
    "outputId": "3637e77a-275f-412c-dddf-9c62d5d05611"
   },
   "outputs": [
    {
     "name": "stdout",
     "output_type": "stream",
     "text": [
      "Accuracy : 0.631578947368421\n"
     ]
    }
   ],
   "source": [
    "#GaussianNB \n",
    "from sklearn.naive_bayes import GaussianNB\n",
    "gnb=GaussianNB()\n",
    "gnb.fit(X_train,y_train)\n",
    "gnb_y=gnb.predict(X_test)\n",
    "print(\"Accuracy :\",accuracy_score(y_test, gnb_y))"
   ]
  },
  {
   "cell_type": "code",
   "execution_count": 17,
   "metadata": {
    "colab": {
     "base_uri": "https://localhost:8080/",
     "height": 279
    },
    "id": "LD40w6CAmPTw",
    "outputId": "9ad8cfc8-72f8-4ac9-ec33-f270c15223bb"
   },
   "outputs": [
    {
     "data": {
      "image/png": "[encoded data removed]",
      "text/plain": [
       "<Figure size 432x288 with 2 Axes>"
      ]
     },
     "metadata": {
      "needs_background": "light"
     },
     "output_type": "display_data"
    }
   ],
   "source": [
    "plot_confusion_matrix(gnb, Independent, Dependent)\n",
    "plt.show()"
   ]
  },
  {
   "cell_type": "markdown",
   "metadata": {
    "id": "5QwoLa1YmI3T"
   },
   "source": [
    "## SVM Classifier"
   ]
  },
  {
   "cell_type": "code",
   "execution_count": 18,
   "metadata": {
    "colab": {
     "base_uri": "https://localhost:8080/"
    },
    "id": "HZR1URHOmOjZ",
    "outputId": "3e064d9b-bc77-4798-9700-0e8a80b57ee0"
   },
   "outputs": [
    {
     "name": "stdout",
     "output_type": "stream",
     "text": [
      "Accuracy : 0.6631578947368421\n"
     ]
    }
   ],
   "source": [
    "from sklearn import svm\n",
    "svm=svm.SVC()\n",
    "svm.fit(X_train,y_train)\n",
    "svm_y=svm.predict(X_test)\n",
    "print(\"Accuracy :\",accuracy_score(y_test,svm_y))"
   ]
  },
  {
   "cell_type": "code",
   "execution_count": 19,
   "metadata": {
    "colab": {
     "base_uri": "https://localhost:8080/",
     "height": 279
    },
    "id": "3u2GjehGmQ7v",
    "outputId": "26de23a6-70df-4ac2-f157-81640c885cb6"
   },
   "outputs": [
    {
     "data": {
      "image/png": "[encoded data removed]",
      "text/plain": [
       "<Figure size 432x288 with 2 Axes>"
      ]
     },
     "metadata": {
      "needs_background": "light"
     },
     "output_type": "display_data"
    }
   ],
   "source": [
    "plot_confusion_matrix(svm, Independent, Dependent)\n",
    "plt.show()"
   ]
  },
  {
   "cell_type": "markdown",
   "metadata": {
    "id": "HsZICzgEnMsx"
   },
   "source": [
    "## ROC AUC PLOT"
   ]
  },
  {
   "cell_type": "code",
   "execution_count": 20,
   "metadata": {
    "colab": {
     "base_uri": "https://localhost:8080/",
     "height": 265
    },
    "id": "tEJCogGbnPvr",
    "outputId": "59c60c59-913b-4040-9def-ee0e78a37b42"
   },
   "outputs": [
    {
     "data": {
      "image/png": "[encoded data removed]",
      "text/plain": [
       "<Figure size 432x288 with 1 Axes>"
      ]
     },
     "metadata": {
      "needs_background": "light"
     },
     "output_type": "display_data"
    }
   ],
   "source": [
    "mlp_fpr, mlp_tpr, _ = metrics.roc_curve(y_test,mlp_y)\n",
    "mlp_auc = metrics.roc_auc_score(y_test,mlp_y)\n",
    "plt.plot(mlp_fpr,mlp_tpr,label=\"MLP, auc=\"+str(mlp_auc))\n",
    "\n",
    "gnb_fpr, gnb_tpr, _ = metrics.roc_curve(y_test,gnb_y)\n",
    "gnb_auc = metrics.roc_auc_score(y_test, gnb_y)\n",
    "plt.plot(gnb_fpr,gnb_tpr,label=\"Gaussian NB, auc=\"+str(gnb_auc))\n",
    "\n",
    "svm_fpr, svm_tpr, _ = metrics.roc_curve(y_test,svm_y)\n",
    "svm_auc = metrics.roc_auc_score(y_test, svm_y)\n",
    "plt.plot(svm_fpr,svm_tpr,label=\"SVM, auc=\"+str(svm_auc))\n",
    "\n",
    "plt.legend(loc=4)\n",
    "plt.show()"
   ]
  },
  {
   "cell_type": "markdown",
   "metadata": {
    "id": "6G-k8P9DC33M"
   },
   "source": [
    "# FAIRNESS IN THE CLASSIFIER"
   ]
  },
  {
   "cell_type": "markdown",
   "metadata": {
    "id": "5n2rC5l6EAWe"
   },
   "source": [
    "We need to verify whether the Compas Algorithm produces significant difference in the scores depending on the race of the offender.\n",
    "\n",
    "First we will create a Logestic Regression model (https://github.com/propublica/compas-analysis/blob/master/Compas%20Analysis.ipynb). We are selecting the features like charge-degree,Age category,Race,Gender,Number of prior counts and the two year recid for training the model.\n",
    "\n",
    "We will be predicting the Compas score factor.\n",
    "\n"
   ]
  },
  {
   "cell_type": "code",
   "execution_count": 21,
   "metadata": {
    "id": "XKz3pbMWI1YZ"
   },
   "outputs": [],
   "source": [
    "from sklearn.linear_model import LogisticRegression\n",
    "lr = LogisticRegression(solver='lbfgs')\n",
    "\n",
    "df_crime = pd.get_dummies(df['c_charge_degree'],prefix='crimefactor',drop_first=True)\n",
    "df_age = pd.get_dummies(df['age_cat'],prefix='age')\n",
    "df_race = pd.get_dummies(df['race'],prefix='race')\n",
    "df_gender = pd.get_dummies(df['sex'],prefix='sex',drop_first=True)\n",
    "df_score1 = pd.get_dummies(df['score_text']!= 'Low'  ,prefix='score_factor',drop_first=True)\n",
    "\n",
    "\n",
    "df_independent = pd.concat([df_crime, df_age,df_race,df_gender,df['priors_count'],df['two_year_recid']],axis=1)\n",
    "df_dependent = df_score1.score_factor_True"
   ]
  },
  {
   "cell_type": "markdown",
   "metadata": {
    "id": "ipjTj9elLi1y"
   },
   "source": [
    "The accuracy of the model is around 75%."
   ]
  },
  {
   "cell_type": "code",
   "execution_count": 22,
   "metadata": {
    "colab": {
     "base_uri": "https://localhost:8080/"
    },
    "id": "7tq7wRPSdh3K",
    "outputId": "9ea1dc6b-c816-4aac-9638-d0510227c8db"
   },
   "outputs": [
    {
     "name": "stdout",
     "output_type": "stream",
     "text": [
      "0.7508101101749838\n"
     ]
    }
   ],
   "source": [
    "clf = lr.fit(df_independent,df_dependent)\n",
    "score = clf.score(df_independent, df_dependent)\n",
    "print(score)"
   ]
  },
  {
   "cell_type": "code",
   "execution_count": 23,
   "metadata": {},
   "outputs": [],
   "source": [
    "predicted = lr.predict(df_independent)\n",
    "predicted_recid_fair=pd.Series(predicted)==1 \n",
    "actual_recid_fair=df.two_year_recid==1"
   ]
  },
  {
   "cell_type": "markdown",
   "metadata": {
    "id": "7w_igzRqLxUW"
   },
   "source": [
    "Now we will check the intercept and coefficient for all the features."
   ]
  },
  {
   "cell_type": "code",
   "execution_count": 24,
   "metadata": {
    "colab": {
     "base_uri": "https://localhost:8080/"
    },
    "id": "x9mVqhBSefRw",
    "outputId": "ac7a581c-2891-4cff-b397-0c6c12dcfddf"
   },
   "outputs": [
    {
     "name": "stdout",
     "output_type": "stream",
     "text": [
      "The intercept is [-1.33461667]\n",
      "--------------------------------------------------------------\n",
      "-0.309965 crimefactor_M\n",
      "0.017544 age_25 - 45\n",
      "-1.328085 age_Greater than 45\n",
      "1.318982 age_Less than 25\n",
      "0.490014 race_African-American\n",
      "-0.200754 race_Asian\n",
      "0.012625 race_Caucasian\n",
      "-0.409056 race_Hispanic\n",
      "0.908992 race_Native American\n",
      "-0.793380 race_Other\n",
      "-0.218662 sex_Male\n",
      "0.268415 priors_count\n",
      "0.683334 two_year_recid\n"
     ]
    }
   ],
   "source": [
    "print( \"The intercept is {}\".format(clf.intercept_))\n",
    "print(\"--------------------------------------------------------------\")\n",
    "for i,j in zip(df_independent.columns, clf.coef_[0]): print('%f' % j, i)"
   ]
  },
  {
   "cell_type": "markdown",
   "metadata": {
    "id": "bl6p5T-yM5t0"
   },
   "source": [
    "We will use these coefficients and intercepts to see how likely are the other races compared to the white defendants.\n",
    " \n",
    " \n",
    " Credits : https://github.com/propublica/compas-analysis/blob/master/Compas%20Analysis.ipynb\n",
    "\n"
   ]
  },
  {
   "cell_type": "code",
   "execution_count": 25,
   "metadata": {
    "colab": {
     "base_uri": "https://localhost:8080/"
    },
    "id": "U9156cuGYpAu",
    "outputId": "023bce59-9e48-4e65-c51f-bd6ba5858eae"
   },
   "outputs": [
    {
     "name": "stdout",
     "output_type": "stream",
     "text": [
      "Black defendants: 1.442279\n",
      "Asian defendents: 0.850345\n",
      "White defendents: 1.010030\n",
      "Native defendents: 0.714249\n",
      "Other defendents: 1.896247\n"
     ]
    }
   ],
   "source": [
    "control = np.exp(-1.33461667) / (1 + np.exp(-1.33461667))\n",
    "black = np.exp(clf.coef_[0][4]) / (1 - control + (control * np.exp(clf.coef_[0][4])))\n",
    "asian = np.exp(clf.coef_[0][5]) / (1 - control + (control * np.exp(clf.coef_[0][5])))\n",
    "White = np.exp(clf.coef_[0][6]) / (1 - control + (control * np.exp(clf.coef_[0][6])))\n",
    "Native = np.exp(clf.coef_[0][7]) / (1 - control + (control * np.exp(clf.coef_[0][7])))\n",
    "Other = np.exp(clf.coef_[0][8]) / (1 - control + (control * np.exp(clf.coef_[0][8])))\n",
    "print('Black defendants: %f' % black)\n",
    "print('Asian defendents: %f' % asian)\n",
    "print('White defendents: %f' % White)\n",
    "print('Native defendents: %f' % Native)\n",
    "print('Other defendents: %4f' % Other)"
   ]
  },
  {
   "cell_type": "markdown",
   "metadata": {
    "id": "W2yFSineOs2C"
   },
   "source": [
    "Black defendants are 44% more likely than white defendants to receive a higher score correcting for the seriousness of their crime, previous arrests, and future criminal behavior.Similarly Other defendents are 89% more likely to receive a higher score."
   ]
  },
  {
   "cell_type": "code",
   "execution_count": 26,
   "metadata": {
    "colab": {
     "base_uri": "https://localhost:8080/",
     "height": 350
    },
    "id": "7x-TlHClvZKw",
    "outputId": "3171e44f-d241-4e0e-b027-4f265ea08f4c"
   },
   "outputs": [
    {
     "name": "stdout",
     "output_type": "stream",
     "text": [
      "g_recid  False  True \n",
      "a_recid              \n",
      "False     2345   1018\n",
      "True      1076   1733\n"
     ]
    },
    {
     "data": {
      "image/png": "[encoded data removed]",
      "text/plain": [
       "<Figure size 432x288 with 2 Axes>"
      ]
     },
     "metadata": {
      "needs_background": "light"
     },
     "output_type": "display_data"
    }
   ],
   "source": [
    "df['g_recid'] = df['score_text'] != 'Low'             #The new column guessed_recid will contain boolean values depending on the values in score_text column\n",
    "df['a_recid'] = df.two_year_recid == 1                # The score_text contains text data and the two_year_recid contains integer.So we are converting both to boolean\n",
    "                                                      # So that we can represent the values of TN,TP,FN,FP properly in the confusion matrix\n",
    "cm = pd.crosstab(df.a_recid, df.g_recid)\n",
    "print(cm) # for \"confusion matrix\"\n",
    "\n",
    "plot_confusion_matrix(clf, df_independent, df_dependent)\n",
    "plt.show()\n"
   ]
  },
  {
   "cell_type": "markdown",
   "metadata": {
    "id": "UBRHGayxoyjD"
   },
   "source": [
    "If we compare it with the general classifiers described above we will see that logistic regression has less FP and FN and more TN and TP compared to the general classifiers."
   ]
  },
  {
   "cell_type": "code",
   "execution_count": 27,
   "metadata": {},
   "outputs": [
    {
     "name": "stdout",
     "output_type": "stream",
     "text": [
      "STATISTICS FOR WHITE CRIMINALS\n",
      "-------------------------------------------------------------------------------\n",
      "guessed  False  True \n",
      "actual               \n",
      "False     1165    116\n",
      "True       441    381\n",
      "The False Positive Rate 0.09055425448868072\n",
      "The Accuracy is 0.7351402757964812\n",
      "STATISTICS FOR BLACK CRIMINALS\n",
      "-------------------------------------------------------------------------------\n",
      "guessed  False  True \n",
      "actual               \n",
      "False      959    555\n",
      "True       288   1373\n",
      "The False Positive Rate 0.3665785997357992\n",
      "The Accuracy is 0.7344881889763779\n"
     ]
    }
   ],
   "source": [
    "print('STATISTICS FOR WHITE CRIMINALS')\n",
    "print(\"-------------------------------------------------------------------------------\")\n",
    "\n",
    "subset = df.race == 'Caucasian'\n",
    "cm1 = pd.crosstab(actual_recid_fair[subset], predicted_recid_fair[subset],rownames=['actual'], colnames=['guessed'])\n",
    "print(cm1)\n",
    "print(\"The False Positive Rate {}\".format(cm1[True][False]/(cm1[True][False]+cm1[False][False])))\n",
    "#print(\"The Accuracy of the model {}\".format(cm1[True][False]/(cm1[True][False]+cm1[False][False])))\n",
    "print(\"The Accuracy is {}\".format((cm1[True][True]+cm1[False][False])/(cm1[True][False]+cm1[False][False]+cm1[True][True]+cm1[False][True])))\n",
    "\n",
    "print('STATISTICS FOR BLACK CRIMINALS')\n",
    "print(\"-------------------------------------------------------------------------------\")\n",
    "subset1 = df.race == 'African-American'\n",
    "cm2 = pd.crosstab(actual_recid_fair[subset1], predicted_recid_fair[subset1],rownames=['actual'], colnames=['guessed'])\n",
    "print(cm2)\n",
    "print(\"The False Positive Rate {}\".format(cm2[True][False]/(cm2[True][False]+cm2[False][False])))\n",
    "#print(\"The Accuracy of the model {}\".format(cm1[True][False]/(cm1[True][False]+cm1[False][False])))\n",
    "print(\"The Accuracy is {}\".format((cm2[True][True]+cm2[False][False])/(cm2[True][False]+cm2[False][False]+cm2[True][True]+cm2[False][True])))"
   ]
  },
  {
   "cell_type": "code",
   "execution_count": 28,
   "metadata": {
    "colab": {
     "base_uri": "https://localhost:8080/"
    },
    "id": "nHgmyksKvcAy",
    "outputId": "779d781f-8a2a-4cb5-a122-5499b6a5086f"
   },
   "outputs": [
    {
     "name": "stdout",
     "output_type": "stream",
     "text": [
      "2345 1733 1076 1018\n"
     ]
    }
   ],
   "source": [
    "\n",
    "TN = cm[False][False]\n",
    "TP = cm[True][True]\n",
    "FN = cm[False][True]\n",
    "FP = cm[True][False]\n",
    "print(TN,TP,FN,FP)"
   ]
  },
  {
   "cell_type": "markdown",
   "metadata": {
    "id": "Lx96I9QJU7Je"
   },
   "source": [
    "### FALSE POSITIVE RATE : COMPAS CLASSIFIES A BLACK DEFENDANT AS HIGH RISK BUT THE DEFENDENT IS NOT REARRESTED IN TWO YEARS"
   ]
  },
  {
   "cell_type": "markdown",
   "metadata": {
    "id": "-dkB2w3UTECB"
   },
   "source": [
    "\n",
    "Now we will see that the False Positive rate for a black defendant is almost 90% higher than a white defendant. It means a black defendent is 90% more likely to be falsely classified as high-risk criminal even though has not been rearrested in 2 years."
   ]
  },
  {
   "cell_type": "code",
   "execution_count": 29,
   "metadata": {
    "colab": {
     "base_uri": "https://localhost:8080/"
    },
    "id": "Uusf9bbXwif6",
    "outputId": "4874e73d-775d-4b22-bcd5-86aad3d16da7"
   },
   "outputs": [
    {
     "name": "stdout",
     "output_type": "stream",
     "text": [
      "STATISTICS FOR WHITE CRIMINALS\n",
      "-------------------------------------------------------------------------------\n",
      "g_recid  False  True \n",
      "a_recid              \n",
      "False      999    282\n",
      "True       408    414\n",
      "The False Positive Rate 0.22014051522248243\n"
     ]
    }
   ],
   "source": [
    "print('STATISTICS FOR WHITE CRIMINALS')\n",
    "print(\"-------------------------------------------------------------------------------\")\n",
    "subset_white = df[df.race == 'Caucasian']\n",
    "cm1 = pd.crosstab(subset_white.a_recid, subset_white.g_recid)\n",
    "print(cm1)\n",
    "#print(FP / (FP + TN))\n",
    "print(\"The False Positive Rate {}\".format(cm1[True][False]/(cm1[True][False]+cm1[False][False])))"
   ]
  },
  {
   "cell_type": "code",
   "execution_count": 30,
   "metadata": {
    "colab": {
     "base_uri": "https://localhost:8080/"
    },
    "id": "hhTJ9JgHxzKp",
    "outputId": "abb1d531-d9d7-400e-cd45-06cbdad6b70b"
   },
   "outputs": [
    {
     "name": "stdout",
     "output_type": "stream",
     "text": [
      "STATISTICS FOR BLACK CRIMINALS\n",
      "-------------------------------------------------------------------------------\n",
      "g_recid  False  True \n",
      "a_recid              \n",
      "False      873    641\n",
      "True       473   1188\n",
      "The False Positive Rate 0.4233817701453104\n"
     ]
    }
   ],
   "source": [
    "print('STATISTICS FOR BLACK CRIMINALS')\n",
    "print(\"-------------------------------------------------------------------------------\")\n",
    "subset_black = df[df.race == 'African-American']\n",
    "cm2 = pd.crosstab(subset_black.a_recid, subset_black.g_recid)\n",
    "print(cm2)\n",
    "print(\"The False Positive Rate {}\".format(cm2[True][False]/(cm2[True][False]+cm2[False][False])))"
   ]
  },
  {
   "cell_type": "code",
   "execution_count": 31,
   "metadata": {
    "colab": {
     "base_uri": "https://localhost:8080/"
    },
    "id": "Ltkpwgj37xTd",
    "outputId": "a2ef54ba-aa4f-46e9-c3b7-fa593e3cee8f"
   },
   "outputs": [
    {
     "data": {
      "text/plain": [
       "90.9090909090909"
      ]
     },
     "execution_count": 31,
     "metadata": {},
     "output_type": "execute_result"
    }
   ],
   "source": [
    "((0.42-0.22)/0.22)*100\n"
   ]
  },
  {
   "cell_type": "code",
   "execution_count": 32,
   "metadata": {
    "colab": {
     "base_uri": "https://localhost:8080/"
    },
    "id": "2hhL6Eju07KT",
    "outputId": "4256213b-c53e-429d-9d49-3e2a1aac4d7e"
   },
   "outputs": [
    {
     "name": "stdout",
     "output_type": "stream",
     "text": [
      "STATISTICS FOR OTHER CRIMINALS\n",
      "-------------------------------------------------------------------------------\n",
      "g_recid  False  True \n",
      "a_recid              \n",
      "False      191     28\n",
      "True        82     42\n",
      "0.1278538812785388\n"
     ]
    }
   ],
   "source": [
    "print('STATISTICS FOR OTHER CRIMINALS')\n",
    "print(\"-------------------------------------------------------------------------------\")\n",
    "subset_other = df[df.race == 'Other']\n",
    "cm3 = pd.crosstab(subset_other.a_recid, subset_other.g_recid)\n",
    "print(cm3)\n",
    "print(cm3[True][False]/(cm3[True][False]+cm3[False][False]))"
   ]
  },
  {
   "cell_type": "markdown",
   "metadata": {
    "id": "eTwyu5ZPVhkO"
   },
   "source": [
    "All these observations clearly suggests that there is some problem with COMPAS algorithm when it comes to predicting scores for defendants of various races. The predictions are skewed on race and makes it unfair."
   ]
  },
  {
   "cell_type": "markdown",
   "metadata": {
    "id": "BP1RWNu7WQF7"
   },
   "source": [
    "### OUR ATTEMPT ON BUILDING A FAIR CLASSIFIER"
   ]
  },
  {
   "cell_type": "markdown",
   "metadata": {
    "id": "g8c7TWSBWbcW"
   },
   "source": [
    "We decided to remove the features like Age category,Race and Sex from the features.Instead we will use only charge-degree and priors-count.Obviously the accuracy of the model will be low because we are using less parameters but what is important to observe is whether still there remains any bias or not."
   ]
  },
  {
   "cell_type": "code",
   "execution_count": 33,
   "metadata": {
    "id": "SrvyUIHIF4Lq"
   },
   "outputs": [],
   "source": [
    "Independent_fair = pd.concat([pd.get_dummies(df.c_charge_degree, prefix='degree',drop_first=True),df.priors_count],axis = 'columns')\n",
    "Dependent_fair = df.two_year_recid\n"
   ]
  },
  {
   "cell_type": "markdown",
   "metadata": {
    "id": "wzQUARGyYHU7"
   },
   "source": [
    "Our accuracy has fallen by 10% on using the same logistic regression.This is because we are using a lower number of parameters."
   ]
  },
  {
   "cell_type": "code",
   "execution_count": 34,
   "metadata": {
    "colab": {
     "base_uri": "https://localhost:8080/"
    },
    "id": "PSRa_4pDI0Nm",
    "outputId": "ad4195d0-8bbf-4466-a793-839a22762f95"
   },
   "outputs": [
    {
     "name": "stdout",
     "output_type": "stream",
     "text": [
      "0.6422553467271549\n"
     ]
    }
   ],
   "source": [
    "lr = LogisticRegression()\n",
    "clf = lr.fit(Independent_fair,Dependent_fair)\n",
    "score = clf.score(Independent_fair, Dependent_fair)\n",
    "print(score)"
   ]
  },
  {
   "cell_type": "code",
   "execution_count": 35,
   "metadata": {
    "colab": {
     "base_uri": "https://localhost:8080/"
    },
    "id": "UuBun8CPJbN3",
    "outputId": "5bedfec1-efb0-4106-bf96-b6efae8eeb9f"
   },
   "outputs": [
    {
     "name": "stdout",
     "output_type": "stream",
     "text": [
      "The intercept is [-0.50875275]\n",
      "--------------------------------------------------------------\n",
      "-0.345934 degree_M\n",
      "0.147285 priors_count\n"
     ]
    }
   ],
   "source": [
    "print( \"The intercept is {}\".format(clf.intercept_))\n",
    "print(\"--------------------------------------------------------------\")\n",
    "for i,j in zip(Independent_fair.columns, clf.coef_[0]): print('%f' % j, i)"
   ]
  },
  {
   "cell_type": "markdown",
   "metadata": {
    "id": "YnRfhnUdZLpV"
   },
   "source": [
    "We will use the model to predict the two_year_recid. We will compare this with the actual two_year_recid of the dataset\n"
   ]
  },
  {
   "cell_type": "code",
   "execution_count": 36,
   "metadata": {
    "colab": {
     "base_uri": "https://localhost:8080/",
     "height": 136
    },
    "id": "c335RwqMJ9m1",
    "outputId": "bc1abaa4-6818-46a5-c241-4f30a9ccc6bc"
   },
   "outputs": [
    {
     "data": {
      "text/html": [
       "<div>\n",
       "<style scoped>\n",
       "    .dataframe tbody tr th:only-of-type {\n",
       "        vertical-align: middle;\n",
       "    }\n",
       "\n",
       "    .dataframe tbody tr th {\n",
       "        vertical-align: top;\n",
       "    }\n",
       "\n",
       "    .dataframe thead th {\n",
       "        text-align: right;\n",
       "    }\n",
       "</style>\n",
       "<table border=\"1\" class=\"dataframe\">\n",
       "  <thead>\n",
       "    <tr style=\"text-align: right;\">\n",
       "      <th>guessed</th>\n",
       "      <th>False</th>\n",
       "      <th>True</th>\n",
       "    </tr>\n",
       "    <tr>\n",
       "      <th>actual</th>\n",
       "      <th></th>\n",
       "      <th></th>\n",
       "    </tr>\n",
       "  </thead>\n",
       "  <tbody>\n",
       "    <tr>\n",
       "      <th>False</th>\n",
       "      <td>2845</td>\n",
       "      <td>518</td>\n",
       "    </tr>\n",
       "    <tr>\n",
       "      <th>True</th>\n",
       "      <td>1690</td>\n",
       "      <td>1119</td>\n",
       "    </tr>\n",
       "  </tbody>\n",
       "</table>\n",
       "</div>"
      ],
      "text/plain": [
       "guessed  False  True \n",
       "actual               \n",
       "False     2845    518\n",
       "True      1690   1119"
      ]
     },
     "execution_count": 36,
     "metadata": {},
     "output_type": "execute_result"
    }
   ],
   "source": [
    "predicted = lr.predict(Independent_fair)\n",
    "predicted_recid_fair=pd.Series(predicted)==1 \n",
    "actual_recid_fair=df.two_year_recid==1\n",
    "cm3 = pd.crosstab(actual_recid_fair,predicted_recid_fair,rownames=['actual'], colnames=['guessed'])\n",
    "cm3"
   ]
  },
  {
   "cell_type": "markdown",
   "metadata": {
    "id": "VWD4Ir2ViKfz"
   },
   "source": [
    "The False positives rate has decreased for both the blacks and whites but still a black defendant is two times likely than white defendant to be misclassified as High risk.Thus our classifier has :\n",
    "\n",
    "\n",
    "*   Low accuracy\n",
    "*   Less number of False positives\n",
    "*   FPR of Black = 2 * FPR of White\n",
    "\n",
    "\n"
   ]
  },
  {
   "cell_type": "code",
   "execution_count": 37,
   "metadata": {
    "colab": {
     "base_uri": "https://localhost:8080/"
    },
    "id": "GjYdPhHkNrrs",
    "outputId": "8d5b8df5-c9d4-4aac-f397-5e0f1f765d41"
   },
   "outputs": [
    {
     "name": "stdout",
     "output_type": "stream",
     "text": [
      "STATISTICS FOR WHITE CRIMINALS\n",
      "-------------------------------------------------------------------------------\n",
      "guessed  False  True \n",
      "actual               \n",
      "False     1143    138\n",
      "True       583    239\n",
      "The False Positive Rate 0.10772833723653395\n",
      "The Accuracy is 0.6571564431764146\n",
      "STATISTICS FOR BLACK CRIMINALS\n",
      "-------------------------------------------------------------------------------\n",
      "guessed  False  True \n",
      "actual               \n",
      "False     1182    332\n",
      "True       871    790\n",
      "The False Positive Rate 0.2192866578599736\n",
      "The Accuracy is 0.6211023622047244\n"
     ]
    }
   ],
   "source": [
    "print('STATISTICS FOR WHITE CRIMINALS')\n",
    "print(\"-------------------------------------------------------------------------------\")\n",
    "\n",
    "subset = df.race == 'Caucasian'\n",
    "cm1 = pd.crosstab(actual_recid_fair[subset], predicted_recid_fair[subset],rownames=['actual'], colnames=['guessed'])\n",
    "print(cm1)\n",
    "print(\"The False Positive Rate {}\".format(cm1[True][False]/(cm1[True][False]+cm1[False][False])))\n",
    "#print(\"The Accuracy of the model {}\".format(cm1[True][False]/(cm1[True][False]+cm1[False][False])))\n",
    "print(\"The Accuracy is {}\".format((cm1[True][True]+cm1[False][False])/(cm1[True][False]+cm1[False][False]+cm1[True][True]+cm1[False][True])))\n",
    "\n",
    "print('STATISTICS FOR BLACK CRIMINALS')\n",
    "print(\"-------------------------------------------------------------------------------\")\n",
    "subset1 = df.race == 'African-American'\n",
    "cm2 = pd.crosstab(actual_recid_fair[subset1], predicted_recid_fair[subset1],rownames=['actual'], colnames=['guessed'])\n",
    "print(cm2)\n",
    "print(\"The False Positive Rate {}\".format(cm2[True][False]/(cm2[True][False]+cm2[False][False])))\n",
    "#print(\"The Accuracy of the model {}\".format(cm1[True][False]/(cm1[True][False]+cm1[False][False])))\n",
    "print(\"The Accuracy is {}\".format((cm2[True][True]+cm2[False][False])/(cm2[True][False]+cm2[False][False]+cm2[True][True]+cm2[False][True])))\n"
   ]
  },
  {
   "cell_type": "markdown",
   "metadata": {
    "id": "5C6sSy8U7m9R"
   },
   "source": [
    "Clearly our classifier is not working as expected.Let us dig deeper."
   ]
  },
  {
   "cell_type": "markdown",
   "metadata": {
    "id": "mqNLhpYz2vji"
   },
   "source": [
    "On facing this challenge we tried consulting with several online articles and journals to get some idea on how to proceed.We found one article named : https://towardsdatascience.com/a-tutorial-on-fairness-in-machine-learning-3ff8ba1040cb\n",
    "\n",
    "Here we found that one way of creating Fair algorithms is \"Optimization at Training Time\". So we looked into this reference article : https://people.mpi-sws.org/~mzafar/papers/disparate_mistreatment.pdf [Zafar et.al.(2016)] The Compas algorithm has disparate mistreatment on FPR. So we will try to optimize the FPR. In particular we will try to implement something similar to **Covariance vs FPR** where decreasing the covariance threshold converges the FPR of both the groups **[Fairness Beyond Disparate Treatment & Disparate Impact:\n",
    "Learning Classification without Disparate Mistreatment,Zafar et.al.(2016), page 6].** Here instead of Covariance we will use a normal threshold that will be used in the classifiction function."
   ]
  },
  {
   "cell_type": "markdown",
   "metadata": {
    "id": "SGgrD8NNi_-l"
   },
   "source": [
    "We define a list known as **probability of recidivism** which contains the probability of prediction for the two_year_recid to fall in class 1.We define two variables known as **others_threshold** and **black_threshold** such that **others_threshold + black_threshold = 1**. We will decrease the value of others_threshold (the black_threshold will automatically increase) and then we replace the predicted values for those black defendents whose probability of recidivism is greater than the black_threshold.\n",
    "\n",
    "\n",
    "In short: we are forcing our classifier to mark high-risk to those black candidates only if the predicted probability of obtaining high-risk (calculated using predict_proba of sklearn) is greater that a certain threshold.And this certain threshold is known as black threshold which is higher. This means less number of black defendents will be classified as high-risk.Subsequently if black_threshold is high then others_threshold will be lower because black+other = 1. This means that non black people will be marked as high-risk by our classifier for small values of predicted probability.This will certainly bring a balance in the FPR or both black and white but as expected it will increase FN for black defendants as high threshold removes some true \"high-risk\" black defendants."
   ]
  },
  {
   "cell_type": "code",
   "execution_count": 38,
   "metadata": {
    "id": "m0rRd24BXhzP"
   },
   "outputs": [],
   "source": [
    "    def FairnessEnforcer(others_threshold,black_threshold,regression_model):\n",
    "      probability_of_recidivism = regression_model.predict_proba(Independent_fair)[:,1]\n",
    "      prediction_for_all = pd.Series(probability_of_recidivism > others_threshold)\n",
    "      prediction_for_all.loc[df.race=='African-American'] = pd.Series(probability_of_recidivism > black_threshold)\n",
    "      print('STATISTICS FOR WHITE CRIMINALS')\n",
    "      print(\"-------------------------------------------------------------------------------\")\n",
    "      subset = df.race == 'Caucasian'\n",
    "      cm1 = pd.crosstab(actual_recid_fair[subset], prediction_for_all[subset],rownames=['actual'], colnames=['guessed'])\n",
    "      print(cm1)\n",
    "      print(\"The False Positive Rate {}\".format(cm1[True][False]/(cm1[True][False]+cm1[False][False])))\n",
    "      print(\"The Accuracy is {}\".format((cm1[True][True]+cm1[False][False])/(cm1[True][False]+cm1[False][False]+cm1[True][True]+cm1[False][True])))\n",
    "      print('STATISTICS FOR BLACK CRIMINALS')\n",
    "      print(\"-------------------------------------------------------------------------------\")\n",
    "      subset1 = df.race == 'African-American'\n",
    "      cm2 = pd.crosstab(actual_recid_fair[subset1], prediction_for_all[subset1],rownames=['actual'], colnames=['guessed'])\n",
    "      print(cm2)\n",
    "      print(\"The False Positive Rate {}\".format(cm2[True][False]/(cm2[True][False]+cm2[False][False])))\n",
    "      print(\"The Accuracy is {}\".format((cm2[True][True]+cm2[False][False])/(cm2[True][False]+cm2[False][False]+cm2[True][True]+cm2[False][True])))\n",
    "      return"
   ]
  },
  {
   "cell_type": "markdown",
   "metadata": {
    "id": "Hh6xbx51owwR"
   },
   "source": [
    "At tuning parameter 0.45 (we started with 0.5), we found that the FPR of both black and white is the closest to each other. Needless to say that if we decrease the tuning parameter,then the FPR of white defandants will increase by large amount."
   ]
  },
  {
   "cell_type": "code",
   "execution_count": 39,
   "metadata": {
    "colab": {
     "base_uri": "https://localhost:8080/"
    },
    "id": "riQw93UY6p4p",
    "outputId": "20034242-1aa2-438e-884a-b7e99e774090"
   },
   "outputs": [
    {
     "name": "stdout",
     "output_type": "stream",
     "text": [
      "STATISTICS FOR WHITE CRIMINALS\n",
      "-------------------------------------------------------------------------------\n",
      "guessed  False  True \n",
      "actual               \n",
      "False     1078    203\n",
      "True       516    306\n",
      "The False Positive Rate 0.15846994535519127\n",
      "The Accuracy is 0.6581074655254399\n",
      "STATISTICS FOR BLACK CRIMINALS\n",
      "-------------------------------------------------------------------------------\n",
      "guessed  False  True \n",
      "actual               \n",
      "False     1255    259\n",
      "True       986    675\n",
      "The False Positive Rate 0.17107001321003962\n",
      "The Accuracy is 0.6078740157480315\n"
     ]
    }
   ],
   "source": [
    "Tuning_parameter = 0.45\n",
    "FairnessEnforcer(Tuning_parameter,1-Tuning_parameter,lr)"
   ]
  },
  {
   "cell_type": "markdown",
   "metadata": {
    "id": "VTUCtk7qqa_S"
   },
   "source": [
    "So now our classifier has :\n",
    "\n",
    "*   Low accuracy for black criminals\n",
    "*   Low number of False positives for black criminals\n",
    "*   FPR of Black = 1.08 * FPR of White\n",
    "\n",
    "\n",
    "\n"
   ]
  },
  {
   "cell_type": "markdown",
   "metadata": {
    "id": "W18s0spwpt-S"
   },
   "source": [
    "### CONCLUSION"
   ]
  },
  {
   "cell_type": "markdown",
   "metadata": {
    "id": "z4uu-t37p9SA"
   },
   "source": [
    "The accuracy of our classifier has decreased by 2% for the black defendants but the FPR of Black now almost similar to the FPR of White. So we are satisfied with our results. What we have understood is it is difficult to create a fairness classifier because for achieving fainess we have to optimize simultaneously various parameters. This is a difficult problem for optimisation and often it is seen that balancing one parameter can lead to imbalance in other parameters (\"Trade-off\"). In our model we see that FPR decreases but FN increases and overall accuracy decreases a bit. So a trade-off between FPR and Accuracy is being displayed by our model.\n",
    "And removing features like Race or Age category does not essentially remove the biasness.\n"
   ]
  }
 ],
 "metadata": {
  "colab": {
   "collapsed_sections": [
    "pgAYdUDGeMM-",
    "9DGSyUrXjLt-",
    "Lx96I9QJU7Je",
    "W18s0spwpt-S"
   ],
   "name": "SULMONT_BANDYOPADHYAY_YADAV.ipynb",
   "provenance": []
  },
  "kernelspec": {
   "display_name": "Python 3",
   "language": "python",
   "name": "python3"
  },
  "language_info": {
   "codemirror_mode": {
    "name": "ipython",
    "version": 3
   },
   "file_extension": ".py",
   "mimetype": "text/x-python",
   "name": "python",
   "nbconvert_exporter": "python",
   "pygments_lexer": "ipython3",
   "version": "3.8.5"
  }
 },
 "nbformat": 4,
 "nbformat_minor": 1
}
